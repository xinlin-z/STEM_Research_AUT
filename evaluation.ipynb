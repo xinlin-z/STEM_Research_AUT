{
 "cells": [
  {
   "cell_type": "code",
   "execution_count": 1,
   "metadata": {
    "execution": {
     "iopub.execute_input": "2025-04-16T07:49:57.959879Z",
     "iopub.status.busy": "2025-04-16T07:49:57.959508Z",
     "iopub.status.idle": "2025-04-16T07:50:08.851432Z",
     "shell.execute_reply": "2025-04-16T07:50:08.850290Z",
     "shell.execute_reply.started": "2025-04-16T07:49:57.959848Z"
    }
   },
   "outputs": [
    {
     "name": "stdout",
     "output_type": "stream",
     "text": [
      "PyTorch device: cpu\n"
     ]
    }
   ],
   "source": [
    "from pathlib import Path\n",
    "import random\n",
    "import time\n",
    "import json\n",
    "from PIL import Image\n",
    "import numpy as np\n",
    "import matplotlib.pyplot as plt\n",
    "import seaborn as sns\n",
    "import torch\n",
    "import torch.nn as nn\n",
    "from torchvision import transforms\n",
    "from torch.utils.data import Dataset, DataLoader\n",
    "if torch.cuda.is_available():\n",
    "    device = torch.device('cuda')\n",
    "else:\n",
    "    device = torch.device('cpu')\n",
    "print('PyTorch device:', device)"
   ]
  },
  {
   "cell_type": "code",
   "execution_count": 2,
   "metadata": {
    "execution": {
     "iopub.execute_input": "2025-04-16T07:51:14.386980Z",
     "iopub.status.busy": "2025-04-16T07:51:14.386471Z",
     "iopub.status.idle": "2025-04-16T07:51:14.395226Z",
     "shell.execute_reply": "2025-04-16T07:51:14.394342Z",
     "shell.execute_reply.started": "2025-04-16T07:51:14.386950Z"
    }
   },
   "outputs": [],
   "source": [
    "class MultiLabelVGG16(nn.Module):\n",
    "    \n",
    "    def __init__(self, n_class):\n",
    "        super().__init__()\n",
    "        self.vgg16 = models.vgg16(weights=models.VGG16_Weights.DEFAULT)\n",
    "        for param in self.vgg16.features.parameters():\n",
    "            param.requires_grad = False\n",
    "        in_features = self.vgg16.classifier[6].in_features\n",
    "        self.vgg16.classifier[6] = nn.Sequential(\n",
    "            nn.Linear(in_features, n_class),\n",
    "            nn.Sigmoid()\n",
    "        )\n",
    "        self.epochs = 0\n",
    "\n",
    "    def forward(self, x):\n",
    "        return self.vgg16(x)\n",
    "\n",
    "\n",
    "to_rgb = lambda x: x.convert('RGB')\n",
    "mean = [0.485,0.456,0.406]\n",
    "std = [0.229,0.224,0.225]\n",
    "transform = transforms.Compose([\n",
    "    to_rgb,\n",
    "    transforms.Resize((224,224)),\n",
    "    transforms.ToTensor(),\n",
    "    transforms.Normalize(mean=mean,std=std),\n",
    "])"
   ]
  },
  {
   "cell_type": "code",
   "execution_count": 3,
   "metadata": {
    "execution": {
     "iopub.execute_input": "2025-04-16T07:51:19.759171Z",
     "iopub.status.busy": "2025-04-16T07:51:19.758813Z",
     "iopub.status.idle": "2025-04-16T07:51:23.975403Z",
     "shell.execute_reply": "2025-04-16T07:51:23.974497Z",
     "shell.execute_reply.started": "2025-04-16T07:51:19.759147Z"
    }
   },
   "outputs": [
    {
     "name": "stdout",
     "output_type": "stream",
     "text": [
      "MultiLabelVGG16(\n",
      "  (vgg16): VGG(\n",
      "    (features): Sequential(\n",
      "      (0): Conv2d(3, 64, kernel_size=(3, 3), stride=(1, 1), padding=(1, 1))\n",
      "      (1): ReLU(inplace=True)\n",
      "      (2): Conv2d(64, 64, kernel_size=(3, 3), stride=(1, 1), padding=(1, 1))\n",
      "      (3): ReLU(inplace=True)\n",
      "      (4): MaxPool2d(kernel_size=2, stride=2, padding=0, dilation=1, ceil_mode=False)\n",
      "      (5): Conv2d(64, 128, kernel_size=(3, 3), stride=(1, 1), padding=(1, 1))\n",
      "      (6): ReLU(inplace=True)\n",
      "      (7): Conv2d(128, 128, kernel_size=(3, 3), stride=(1, 1), padding=(1, 1))\n",
      "      (8): ReLU(inplace=True)\n",
      "      (9): MaxPool2d(kernel_size=2, stride=2, padding=0, dilation=1, ceil_mode=False)\n",
      "      (10): Conv2d(128, 256, kernel_size=(3, 3), stride=(1, 1), padding=(1, 1))\n",
      "      (11): ReLU(inplace=True)\n",
      "      (12): Conv2d(256, 256, kernel_size=(3, 3), stride=(1, 1), padding=(1, 1))\n",
      "      (13): ReLU(inplace=True)\n",
      "      (14): Conv2d(256, 256, kernel_size=(3, 3), stride=(1, 1), padding=(1, 1))\n",
      "      (15): ReLU(inplace=True)\n",
      "      (16): MaxPool2d(kernel_size=2, stride=2, padding=0, dilation=1, ceil_mode=False)\n",
      "      (17): Conv2d(256, 512, kernel_size=(3, 3), stride=(1, 1), padding=(1, 1))\n",
      "      (18): ReLU(inplace=True)\n",
      "      (19): Conv2d(512, 512, kernel_size=(3, 3), stride=(1, 1), padding=(1, 1))\n",
      "      (20): ReLU(inplace=True)\n",
      "      (21): Conv2d(512, 512, kernel_size=(3, 3), stride=(1, 1), padding=(1, 1))\n",
      "      (22): ReLU(inplace=True)\n",
      "      (23): MaxPool2d(kernel_size=2, stride=2, padding=0, dilation=1, ceil_mode=False)\n",
      "      (24): Conv2d(512, 512, kernel_size=(3, 3), stride=(1, 1), padding=(1, 1))\n",
      "      (25): ReLU(inplace=True)\n",
      "      (26): Conv2d(512, 512, kernel_size=(3, 3), stride=(1, 1), padding=(1, 1))\n",
      "      (27): ReLU(inplace=True)\n",
      "      (28): Conv2d(512, 512, kernel_size=(3, 3), stride=(1, 1), padding=(1, 1))\n",
      "      (29): ReLU(inplace=True)\n",
      "      (30): MaxPool2d(kernel_size=2, stride=2, padding=0, dilation=1, ceil_mode=False)\n",
      "    )\n",
      "    (avgpool): AdaptiveAvgPool2d(output_size=(7, 7))\n",
      "    (classifier): Sequential(\n",
      "      (0): Linear(in_features=25088, out_features=4096, bias=True)\n",
      "      (1): ReLU(inplace=True)\n",
      "      (2): Dropout(p=0.5, inplace=False)\n",
      "      (3): Linear(in_features=4096, out_features=4096, bias=True)\n",
      "      (4): ReLU(inplace=True)\n",
      "      (5): Dropout(p=0.5, inplace=False)\n",
      "      (6): Sequential(\n",
      "        (0): Linear(in_features=4096, out_features=1, bias=True)\n",
      "        (1): Sigmoid()\n",
      "      )\n",
      "    )\n",
      "  )\n",
      ")\n"
     ]
    }
   ],
   "source": [
    "model = torch.load('/kaggle/input/european-flood-2013/6/mlvgg16.022.pth',\n",
    "                   weights_only=False,\n",
    "                   map_location=device)\n",
    "print(model)"
   ]
  },
  {
   "cell_type": "code",
   "execution_count": 17,
   "metadata": {
    "execution": {
     "iopub.execute_input": "2025-04-16T06:32:34.728779Z",
     "iopub.status.busy": "2025-04-16T06:32:34.728539Z",
     "iopub.status.idle": "2025-04-16T06:32:34.759584Z",
     "shell.execute_reply": "2025-04-16T06:32:34.758627Z",
     "shell.execute_reply.started": "2025-04-16T06:32:34.728761Z"
    }
   },
   "outputs": [
    {
     "name": "stdout",
     "output_type": "stream",
     "text": [
      "533\n",
      "1389\n"
     ]
    }
   ],
   "source": [
    "prefix = Path('../input/european-flood-2013')\n",
    "path_data = [prefix / 'harz17_rhine18/harz17',\n",
    "             prefix / 'harz17_rhine18/rhine18']\n",
    "\n",
    "with open(prefix/'harz17.json') as f:\n",
    "    dict_harz17 = json.load(f)\n",
    "with open(prefix/'rhine18.json') as f:\n",
    "    dict_rhine18 = json.load(f)\n",
    "\n",
    "\n",
    "harz17 = []\n",
    "for f in path_data[0].iterdir():\n",
    "    if dict_harz17[f.stem]['RelDepth']:\n",
    "        harz17.append((f,1))\n",
    "    else:\n",
    "        harz17.append((f,0))\n",
    "\n",
    "rhine18 = []\n",
    "for f in path_data[1].iterdir():\n",
    "    if dict_rhine18[f.stem]['RelDepth']:\n",
    "        rhine18.append((f,1))\n",
    "    else:\n",
    "        rhine18.append((f,0))\n",
    "\n",
    "print(len(harz17))\n",
    "print(len(rhine18))"
   ]
  },
  {
   "cell_type": "code",
   "execution_count": 18,
   "metadata": {
    "execution": {
     "iopub.execute_input": "2025-04-16T06:32:34.762165Z",
     "iopub.status.busy": "2025-04-16T06:32:34.761886Z",
     "iopub.status.idle": "2025-04-16T06:32:34.768171Z",
     "shell.execute_reply": "2025-04-16T06:32:34.767009Z",
     "shell.execute_reply.started": "2025-04-16T06:32:34.762143Z"
    }
   },
   "outputs": [
    {
     "name": "stdout",
     "output_type": "stream",
     "text": [
      "142\n",
      "298\n"
     ]
    }
   ],
   "source": [
    "target_harz17 = [b for _,b in harz17]\n",
    "target_rhine18 = [b for _,b in rhine18]\n",
    "print(sum(target_harz17))\n",
    "print(sum(target_rhine18))"
   ]
  },
  {
   "cell_type": "code",
   "execution_count": 19,
   "metadata": {
    "execution": {
     "iopub.execute_input": "2025-04-16T06:32:34.770164Z",
     "iopub.status.busy": "2025-04-16T06:32:34.769318Z",
     "iopub.status.idle": "2025-04-16T06:32:34.795874Z",
     "shell.execute_reply": "2025-04-16T06:32:34.795016Z",
     "shell.execute_reply.started": "2025-04-16T06:32:34.770129Z"
    }
   },
   "outputs": [],
   "source": [
    "class FloodDataset(Dataset):\n",
    "\n",
    "    def __init__(self, data, transform):\n",
    "        self.data = data\n",
    "        self.transform = transform\n",
    "\n",
    "    def __len__(self):\n",
    "        return len(self.data)\n",
    "\n",
    "    def __getitem__(self, idx):\n",
    "        img = self.transform(Image.open(self.data[idx][0]))\n",
    "        label = torch.tensor([self.data[idx][1]],dtype=torch.float32)\n",
    "        return img, label\n",
    "\n",
    "\n",
    "batch_size = 256\n",
    "harz17_ds = FloodDataset(harz17, transform)\n",
    "harz17_loader = DataLoader(harz17_ds,\n",
    "                           batch_size=batch_size,\n",
    "                           shuffle=False,\n",
    "                           pin_memory=True,\n",
    "                           num_workers=3)\n",
    "rhine18_ds = FloodDataset(rhine18, transform)\n",
    "rhine18_loader = DataLoader(rhine18_ds,\n",
    "                           batch_size=batch_size,\n",
    "                           shuffle=False,\n",
    "                           pin_memory=True,\n",
    "                           num_workers=3)"
   ]
  },
  {
   "cell_type": "code",
   "execution_count": 20,
   "metadata": {
    "execution": {
     "iopub.execute_input": "2025-04-16T06:32:34.797275Z",
     "iopub.status.busy": "2025-04-16T06:32:34.796974Z",
     "iopub.status.idle": "2025-04-16T06:32:34.823763Z",
     "shell.execute_reply": "2025-04-16T06:32:34.822849Z",
     "shell.execute_reply.started": "2025-04-16T06:32:34.797244Z"
    }
   },
   "outputs": [],
   "source": [
    "criterion = nn.BCELoss()\n",
    "\n",
    "def model_eval(model, data_loader, criterion, dev):\n",
    "    model.eval()\n",
    "    model.to(dev)\n",
    "    running_loss = 0.0\n",
    "    r = []\n",
    "    with torch.no_grad():\n",
    "        for X, Y in data_loader:\n",
    "            X = X.to(dev)\n",
    "            Y = Y.to(dev)\n",
    "            outputs = model(X)\n",
    "            r.append(outputs)\n",
    "            loss = criterion(outputs, Y)\n",
    "            running_loss += loss.item()   \n",
    "    return r, running_loss"
   ]
  },
  {
   "cell_type": "code",
   "execution_count": 21,
   "metadata": {
    "execution": {
     "iopub.execute_input": "2025-04-16T06:32:34.825551Z",
     "iopub.status.busy": "2025-04-16T06:32:34.825201Z",
     "iopub.status.idle": "2025-04-16T06:45:12.155514Z",
     "shell.execute_reply": "2025-04-16T06:45:12.153820Z",
     "shell.execute_reply.started": "2025-04-16T06:32:34.825523Z"
    }
   },
   "outputs": [],
   "source": [
    "results17,_ = model_eval(model, harz17_loader, criterion, device)\n",
    "results18,_ = model_eval(model, rhine18_loader, criterion, device)"
   ]
  },
  {
   "cell_type": "code",
   "execution_count": 22,
   "metadata": {
    "execution": {
     "iopub.execute_input": "2025-04-16T06:45:12.157875Z",
     "iopub.status.busy": "2025-04-16T06:45:12.157385Z",
     "iopub.status.idle": "2025-04-16T06:45:12.165951Z",
     "shell.execute_reply": "2025-04-16T06:45:12.164908Z",
     "shell.execute_reply.started": "2025-04-16T06:45:12.157821Z"
    }
   },
   "outputs": [],
   "source": [
    "out_harz17 = torch.cat(results17,dim=0).squeeze(1)\n",
    "out_rhine18 = torch.cat(results18,dim=0).squeeze(1)\n",
    "if device == torch.device('cuda'):\n",
    "    out_harz17 = out_harz17.cpu()\n",
    "    out_rhine18 = out_rhine18.cpu()"
   ]
  },
  {
   "cell_type": "code",
   "execution_count": 23,
   "metadata": {
    "execution": {
     "iopub.execute_input": "2025-04-16T06:45:12.169510Z",
     "iopub.status.busy": "2025-04-16T06:45:12.169103Z",
     "iopub.status.idle": "2025-04-16T06:45:12.198185Z",
     "shell.execute_reply": "2025-04-16T06:45:12.197262Z",
     "shell.execute_reply.started": "2025-04-16T06:45:12.169483Z"
    }
   },
   "outputs": [
    {
     "name": "stdout",
     "output_type": "stream",
     "text": [
      "0.6254843562123729\n",
      "0.6510692865431315\n"
     ]
    }
   ],
   "source": [
    "from sklearn.metrics import average_precision_score\n",
    "print(average_precision_score(target_harz17, out_harz17))\n",
    "print(average_precision_score(target_rhine18, out_rhine18))"
   ]
  },
  {
   "cell_type": "code",
   "execution_count": 24,
   "metadata": {
    "execution": {
     "iopub.execute_input": "2025-04-16T06:45:12.199627Z",
     "iopub.status.busy": "2025-04-16T06:45:12.199264Z",
     "iopub.status.idle": "2025-04-16T06:45:17.377935Z",
     "shell.execute_reply": "2025-04-16T06:45:17.376903Z",
     "shell.execute_reply.started": "2025-04-16T06:45:12.199592Z"
    }
   },
   "outputs": [],
   "source": [
    "def get_prec_rec(target, out):\n",
    "    precisions = []\n",
    "    recalls = []\n",
    "    pstep = np.linspace(0,1,200)\n",
    "    for p in pstep:\n",
    "        tp = 0\n",
    "        fp = 0\n",
    "        fn = 0\n",
    "        for ta,ot in zip(target,out):\n",
    "            if ta==0 and ot>p:\n",
    "                fp += 1\n",
    "            if ta==1 and ot>p:\n",
    "                tp += 1\n",
    "            if ta==1 and ot<p:\n",
    "                fn += 1\n",
    "        try:\n",
    "            prec = tp/(fp+tp)\n",
    "        except:\n",
    "            prec = 1\n",
    "        rec = tp/(tp+fn)\n",
    "        precisions.append(prec)\n",
    "        recalls.append(rec)\n",
    "    return precisions, recalls\n",
    "\n",
    "\n",
    "harz17_prec, harz17_rec = get_prec_rec(target_harz17,out_harz17)\n",
    "rhine18_prec, rhine18_rec = get_prec_rec(target_rhine18,out_rhine18)"
   ]
  },
  {
   "cell_type": "code",
   "execution_count": 25,
   "metadata": {
    "execution": {
     "iopub.execute_input": "2025-04-16T06:45:17.380386Z",
     "iopub.status.busy": "2025-04-16T06:45:17.380058Z",
     "iopub.status.idle": "2025-04-16T06:45:17.387455Z",
     "shell.execute_reply": "2025-04-16T06:45:17.386491Z",
     "shell.execute_reply.started": "2025-04-16T06:45:17.380363Z"
    }
   },
   "outputs": [
    {
     "name": "stdout",
     "output_type": "stream",
     "text": [
      "0.6261980830670927\n",
      "0.6329113924050632\n"
     ]
    }
   ],
   "source": [
    "def best_possible_f1(prec,rec):\n",
    "    f1 = []\n",
    "    for p,r in zip(prec,rec):\n",
    "        try:\n",
    "            f1.append((2*p*r)/(p+r))\n",
    "        except:\n",
    "            pass\n",
    "    return max(f1)\n",
    "\n",
    "\n",
    "print(best_possible_f1(harz17_prec,harz17_rec))\n",
    "print(best_possible_f1(rhine18_prec,rhine18_rec))"
   ]
  },
  {
   "cell_type": "code",
   "execution_count": 26,
   "metadata": {
    "execution": {
     "iopub.execute_input": "2025-04-16T06:45:17.388938Z",
     "iopub.status.busy": "2025-04-16T06:45:17.388556Z",
     "iopub.status.idle": "2025-04-16T06:45:17.627228Z",
     "shell.execute_reply": "2025-04-16T06:45:17.626033Z",
     "shell.execute_reply.started": "2025-04-16T06:45:17.388896Z"
    }
   },
   "outputs": [
    {
     "data": {
      "image/png": "[encoded data removed]",
      "text/plain": [
       "<Figure size 500x500 with 1 Axes>"
      ]
     },
     "metadata": {},
     "output_type": "display_data"
    }
   ],
   "source": [
    "plt.figure(figsize=(5, 5))\n",
    "plt.plot(harz17_rec,harz17_prec, linewidth=0.7, label='harz17')\n",
    "plt.plot(rhine18_rec,rhine18_prec, linewidth=0.7, label='rhine18')\n",
    "plt.legend();"
   ]
  }
 ],
 "metadata": {
  "kaggle": {
   "accelerator": "none",
   "dataSources": [
    {
     "datasetId": 7102892,
     "sourceId": 11430264,
     "sourceType": "datasetVersion"
    }
   ],
   "dockerImageVersionId": 31012,
   "isGpuEnabled": false,
   "isInternetEnabled": true,
   "language": "python",
   "sourceType": "notebook"
  },
  "kernelspec": {
   "display_name": "Python 3 (ipykernel)",
   "language": "python",
   "name": "python3"
  },
  "language_info": {
   "codemirror_mode": {
    "name": "ipython",
    "version": 3
   },
   "file_extension": ".py",
   "mimetype": "text/x-python",
   "name": "python",
   "nbconvert_exporter": "python",
   "pygments_lexer": "ipython3",
   "version": "3.13.0"
  }
 },
 "nbformat": 4,
 "nbformat_minor": 4
}
